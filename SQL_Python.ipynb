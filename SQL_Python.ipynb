{
 "cells": [
  {
   "cell_type": "code",
   "execution_count": 7,
   "metadata": {},
   "outputs": [],
   "source": [
    "import sqlite3 \n",
    "  \n",
    "# connecting to the database  \n",
    "connection = sqlite3.connect(\"myTable.db\") \n",
    "  \n",
    "# cursor  \n",
    "crsr = connection.cursor() \n",
    "  \n",
    "# SQL command to create a table in the database \n",
    "sql_command = \"\"\"CREATE TABLE emp (  \n",
    "staff_number INTEGER PRIMARY KEY,  \n",
    "fname VARCHAR(20),  \n",
    "lname VARCHAR(30),  \n",
    "gender CHAR(1),  \n",
    "joining DATE);\"\"\"\n",
    "  \n",
    "# execute the statement \n",
    "crsr.execute(sql_command) \n",
    "  \n",
    "# SQL command to insert the data in the table \n",
    "sql_command = \"\"\"INSERT INTO emp VALUES (23, \"Rishabh\", \"Bansal\", \"M\", \"2014-03-28\");\"\"\"\n",
    "crsr.execute(sql_command) \n",
    "  \n",
    "# another SQL command to insert the data in the table \n",
    "sql_command = \"\"\"INSERT INTO emp VALUES (1, \"Bill\", \"Gates\", \"M\", \"1980-10-28\");\"\"\"\n",
    "crsr.execute(sql_command) \n",
    "  \n",
    "# To save the changes in the files. Never skip this.  \n",
    "# If we skip this, nothing will be saved in the database. \n",
    "connection.commit() \n",
    "  \n",
    "# close the connection \n",
    "connection.close() "
   ]
  },
  {
   "cell_type": "code",
   "execution_count": 8,
   "metadata": {},
   "outputs": [
    {
     "name": "stdout",
     "output_type": "stream",
     "text": [
      "(1, 'Bill', 'Gates', 'M', '1980-10-28')\n",
      "(23, 'Rishabh', 'Bansal', 'M', '2014-03-28')\n"
     ]
    }
   ],
   "source": [
    "  # connect withe the myTable database \n",
    "connection = sqlite3.connect(\"myTable.db\") \n",
    "  \n",
    "# cursor object \n",
    "crsr = connection.cursor() \n",
    "  \n",
    "# execute the command to fetch all the data from the table emp \n",
    "crsr.execute(\"SELECT * FROM emp\")  \n",
    "  \n",
    "# store all the fetched data in the ans variable \n",
    "ans= crsr.fetchall()  \n",
    "  \n",
    "# loop to print all the data \n",
    "for i in ans: \n",
    "    print(i) "
   ]
  },
  {
   "cell_type": "code",
   "execution_count": null,
   "metadata": {
    "collapsed": true
   },
   "outputs": [],
   "source": []
  }
 ],
 "metadata": {
  "kernelspec": {
   "display_name": "Python 3",
   "language": "python",
   "name": "python3"
  },
  "language_info": {
   "codemirror_mode": {
    "name": "ipython",
    "version": 3
   },
   "file_extension": ".py",
   "mimetype": "text/x-python",
   "name": "python",
   "nbconvert_exporter": "python",
   "pygments_lexer": "ipython3",
   "version": "3.7.3"
  }
 },
 "nbformat": 4,
 "nbformat_minor": 2
}
